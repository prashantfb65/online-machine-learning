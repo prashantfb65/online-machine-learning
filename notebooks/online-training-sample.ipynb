{
 "cells": [
  {
   "cell_type": "code",
   "execution_count": 1,
   "id": "496d0252",
   "metadata": {},
   "outputs": [],
   "source": [
    "# Online Learning with River\n",
    "# https://www.youtube.com/watch?v=P3M6dt7bY9U&list=PLGVZCDnMOq0q7_6SdrC2wRtdkojGBTAht&index=12&ab_channel=PyData"
   ]
  },
  {
   "cell_type": "code",
   "execution_count": 2,
   "id": "3b3e31bb",
   "metadata": {},
   "outputs": [],
   "source": [
    "from pprint import pprint\n",
    "from river import datasets"
   ]
  },
  {
   "cell_type": "code",
   "execution_count": 3,
   "id": "536e9e49",
   "metadata": {},
   "outputs": [],
   "source": [
    "dataset = datasets.Phishing()"
   ]
  },
  {
   "cell_type": "markdown",
   "id": "50b8316a",
   "metadata": {},
   "source": [
    "As a quick example, we'll train a logistic regression to classify the website phishing dataset. Here's a look at the first observation in the dataset."
   ]
  },
  {
   "cell_type": "code",
   "execution_count": 4,
   "id": "7af05c1b",
   "metadata": {},
   "outputs": [
    {
     "name": "stdout",
     "output_type": "stream",
     "text": [
      "{'age_of_domain': 1,\n",
      " 'anchor_from_other_domain': 0.0,\n",
      " 'empty_server_form_handler': 0.0,\n",
      " 'https': 0.0,\n",
      " 'ip_in_url': 1,\n",
      " 'is_popular': 0.5,\n",
      " 'long_url': 1.0,\n",
      " 'popup_window': 0.0,\n",
      " 'request_from_other_domain': 0.0}\n",
      "True\n"
     ]
    }
   ],
   "source": [
    "for x, y in dataset:\n",
    "    pprint(x)\n",
    "    print(y)\n",
    "    break"
   ]
  },
  {
   "cell_type": "markdown",
   "id": "fbfcb99f",
   "metadata": {},
   "source": [
    "Now let's run the model on the dataset in a streaming fashion. We sequentially interleave predictions and model updates. Meanwhile, we update a performance metric to see how well the model is doing."
   ]
  },
  {
   "cell_type": "code",
   "execution_count": 6,
   "id": "ce47c1f8",
   "metadata": {},
   "outputs": [],
   "source": [
    "from river import compose\n",
    "from river import linear_model\n",
    "from river import metrics\n",
    "from river import preprocessing"
   ]
  },
  {
   "cell_type": "code",
   "execution_count": 7,
   "id": "71618f18",
   "metadata": {},
   "outputs": [],
   "source": [
    "model = compose.Pipeline(\n",
    "...     preprocessing.StandardScaler(),\n",
    "...     linear_model.LogisticRegression()\n",
    "... )\n"
   ]
  },
  {
   "cell_type": "code",
   "execution_count": 8,
   "id": "d1825e2c",
   "metadata": {},
   "outputs": [],
   "source": [
    "metric = metrics.Accuracy()"
   ]
  },
  {
   "cell_type": "code",
   "execution_count": 9,
   "id": "46b04287",
   "metadata": {},
   "outputs": [
    {
     "data": {
      "text/plain": [
       "Accuracy: 0.00%"
      ]
     },
     "execution_count": 9,
     "metadata": {},
     "output_type": "execute_result"
    }
   ],
   "source": [
    "metric"
   ]
  },
  {
   "cell_type": "code",
   "execution_count": 10,
   "id": "d44df5fd",
   "metadata": {},
   "outputs": [],
   "source": [
    "for x, y in dataset:\n",
    "...     y_pred = model.predict_one(x)      # make a prediction\n",
    "...     metric = metric.update(y, y_pred)  # update the metric\n",
    "...     model = model.learn_one(x, y)      # make the model learn"
   ]
  },
  {
   "cell_type": "code",
   "execution_count": 11,
   "id": "5b500f03",
   "metadata": {},
   "outputs": [
    {
     "data": {
      "text/plain": [
       "Accuracy: 89.20%"
      ]
     },
     "execution_count": 11,
     "metadata": {},
     "output_type": "execute_result"
    }
   ],
   "source": [
    "metric"
   ]
  },
  {
   "cell_type": "code",
   "execution_count": null,
   "id": "4dcdf61e",
   "metadata": {},
   "outputs": [],
   "source": []
  }
 ],
 "metadata": {
  "kernelspec": {
   "display_name": "Python 3 (ipykernel)",
   "language": "python",
   "name": "python3"
  },
  "language_info": {
   "codemirror_mode": {
    "name": "ipython",
    "version": 3
   },
   "file_extension": ".py",
   "mimetype": "text/x-python",
   "name": "python",
   "nbconvert_exporter": "python",
   "pygments_lexer": "ipython3",
   "version": "3.8.6"
  }
 },
 "nbformat": 4,
 "nbformat_minor": 5
}
